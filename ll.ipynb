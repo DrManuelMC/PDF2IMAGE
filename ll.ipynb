{
 "cells": [
  {
   "cell_type": "code",
   "execution_count": 1,
   "metadata": {},
   "outputs": [],
   "source": [
    "import cv2\n",
    "import numpy as np\n",
    "\n",
    "def corregir_angulo_imagen(imagen):\n",
    "    # Convertir la imagen a escala de grises\n",
    "    imagen_gris = cv2.cvtColor(imagen, cv2.COLOR_BGR2GRAY)\n",
    "\n",
    "    # Aplicar detección de bordes con Canny\n",
    "    bordes = cv2.Canny(imagen_gris, 50, 150, apertureSize=3)\n",
    "\n",
    "    # Obtener líneas utilizando la transformada de Hough\n",
    "    lineas = cv2.HoughLines(bordes, 1, np.pi / 180, 200)\n",
    "\n",
    "    # Calcular el ángulo promedio de las líneas detectadas\n",
    "    angulo_promedio = 0.0\n",
    "    num_lineas = len(lineas)\n",
    "\n",
    "    for linea in lineas:\n",
    "        for rho, theta in linea:\n",
    "            angulo_promedio += theta\n",
    "\n",
    "    angulo_promedio /= num_lineas\n",
    "\n",
    "    # Convertir el ángulo a grados y obtener la rotación requerida\n",
    "    angulo_grados = np.rad2deg(angulo_promedio)\n",
    "    rotacion = int(angulo_grados) % 360\n",
    "\n",
    "    # Rotar la imagen a la posición correcta\n",
    "    altura, ancho = imagen.shape[:2]\n",
    "    centro = (ancho // 2, altura // 2)\n",
    "    matriz_rotacion = cv2.getRotationMatrix2D(centro, rotacion, 1.0)\n",
    "    imagen_rotada = cv2.warpAffine(imagen, matriz_rotacion, (ancho, altura), flags=cv2.INTER_LINEAR)\n",
    "\n",
    "    return imagen_rotada\n",
    "\n",
    "# Cargar la imagen de ejemplo\n",
    "ruta_imagen = 'page_0_180.tiff'\n",
    "imagen_original = cv2.imread(ruta_imagen)\n",
    "\n",
    "# Corregir el ángulo de la imagen\n",
    "imagen_corregida = corregir_angulo_imagen(imagen_original)\n",
    "\n",
    "# Mostrar la imagen original y la imagen corregida\n",
    "cv2.imshow('Imagen Original', imagen_original)\n",
    "cv2.imshow('Imagen Corregida', imagen_corregida)\n",
    "cv2.waitKey(0)\n",
    "cv2.destroyAllWindows()\n"
   ]
  },
  {
   "cell_type": "code",
   "execution_count": null,
   "metadata": {},
   "outputs": [],
   "source": []
  }
 ],
 "metadata": {
  "kernelspec": {
   "display_name": "venv",
   "language": "python",
   "name": "python3"
  },
  "language_info": {
   "codemirror_mode": {
    "name": "ipython",
    "version": 3
   },
   "file_extension": ".py",
   "mimetype": "text/x-python",
   "name": "python",
   "nbconvert_exporter": "python",
   "pygments_lexer": "ipython3",
   "version": "3.8.10"
  },
  "orig_nbformat": 4
 },
 "nbformat": 4,
 "nbformat_minor": 2
}
